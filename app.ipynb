{
 "cells": [
  {
   "cell_type": "code",
   "execution_count": null,
   "metadata": {},
   "outputs": [],
   "source": [
    "import bz2\n",
    "import sqlite3\n",
    "from lxml import etree\n",
    "from tqdm import tqdm\n",
    "\n",
    "from analyzers.pond_traits import PondTraits\n",
    "\n",
    "allowed_types = [\"169\", \"225\", \"185\"] #Not sure what these are but I will leave it\n",
    "log_database = r'C:\\Users\\leecs1\\Downloads\\es4p.db'\n",
    "decompress = bz2.decompress\n",
    "XML = etree.XML"
   ]
  },
  {
   "cell_type": "code",
   "execution_count": null,
   "metadata": {},
   "outputs": [],
   "source": [
    "pondanalyzer = PondTraits()\n",
    "\n",
    "with sqlite3.connect(log_database) as conn:\n",
    "    cursor = conn.cursor()\n",
    "    cursor.execute('SELECT COUNT(*) FROM logs')\n",
    "    rowcount = cursor.fetchone()[0]\n",
    "    cursor.execute('SELECT * FROM logs LIMIT 1')\n",
    "\n",
    "    for i in range(rowcount):\n",
    "        log = cursor.fetchone()\n",
    "        if log is None:\n",
    "            break\n",
    "\n",
    "        content = decompress(log[2])\n",
    "        f = open(\"data/examplelog.xml\", \"wb\")\n",
    "        f.write(content)\n",
    "        f.close()\n",
    "\n",
    "        logxml = XML(content, etree.XMLParser(recover=True))\n",
    "\n",
    "        game_type = logxml.find(\"GO\").attrib[\"type\"]\n",
    "\n",
    "        if game_type in allowed_types:\n",
    "            pondanalyzer.ParseLog(logxml, log[0])\n",
    "\n",
    "        print('pondanalyzer.hands: ', pondanalyzer.hands)"
   ]
  },
  {
   "cell_type": "code",
   "execution_count": 4,
   "metadata": {},
   "outputs": [
    {
     "name": "stdout",
     "output_type": "stream",
     "text": [
      "1123567s 2337p 12m E\n"
     ]
    }
   ],
   "source": [
    "# log = r\"data/examplelog.xml\"\n",
    "# xml = etree.parse(open(log)).getroot()\n",
    "# Hand format: myhand = Counter({1:1, 2:1, 3:1, 5:1, 6:1, 7:1, 12:1, 13:2, 17:2, 21:1, 22:1})\n",
    "\n",
    "\n",
    "from collections import Counter\n",
    "import util.analysis_utils as u\n",
    "\n",
    "myhand = Counter({1:2, 2:1, 3:1, 5:1, 6:1, 7:1, 12:1, 13:2, 17:1, 21:1, 22:1, 31:1})\n",
    "print(u.parseAmberNotation(myhand))\n"
   ]
  },
  {
   "cell_type": "code",
   "execution_count": null,
   "metadata": {},
   "outputs": [],
   "source": []
  }
 ],
 "metadata": {
  "kernelspec": {
   "display_name": "Python 3",
   "language": "python",
   "name": "python3"
  },
  "language_info": {
   "codemirror_mode": {
    "name": "ipython",
    "version": 3
   },
   "file_extension": ".py",
   "mimetype": "text/x-python",
   "name": "python",
   "nbconvert_exporter": "python",
   "pygments_lexer": "ipython3",
   "version": "3.11.5"
  },
  "orig_nbformat": 4
 },
 "nbformat": 4,
 "nbformat_minor": 2
}
