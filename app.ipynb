{
 "cells": [
  {
   "cell_type": "code",
   "execution_count": null,
   "metadata": {},
   "outputs": [],
   "source": [
    "import bz2\n",
    "import sqlite3\n",
    "from lxml import etree\n",
    "from tqdm import tqdm\n",
    "from collections import Counter\n",
    "import util.analysis_utils as u\n",
    "import util.shanten as s\n",
    "\n",
    "from analyzers.mentanpin import Mentanpin\n",
    "\n",
    "allowed_types = [\"169\", \"225\", \"185\"] #Not sure what these are but I will leave it\n",
    "log_database = r'C:\\Users\\leecs1\\Downloads\\es4p.db'\n",
    "decompress = bz2.decompress\n",
    "XML = etree.XML\n",
    "\n",
    "mentanpin = Mentanpin()\n",
    "\n",
    "with sqlite3.connect(log_database) as conn:\n",
    "    cursor = conn.cursor()\n",
    "    cursor.execute('SELECT COUNT(*) FROM logs')\n",
    "    rowcount = cursor.fetchone()[0]\n",
    "    cursor.execute('SELECT * FROM logs LIMIT 1')\n",
    "\n",
    "    for i in range(rowcount):\n",
    "        log = cursor.fetchone()\n",
    "        if log is None:\n",
    "            break\n",
    "\n",
    "        content = decompress(log[2])\n",
    "        logxml = XML(content, etree.XMLParser(recover=True))\n",
    "\n",
    "        game_type = logxml.find(\"GO\").attrib[\"type\"]\n",
    "        if game_type in allowed_types:\n",
    "            mentanpin.ParseLog(logxml, log[0])\n",
    "\n",
    "        print(mentanpin.hands)"
   ]
  }
 ],
 "metadata": {
  "kernelspec": {
   "display_name": "Python 3",
   "language": "python",
   "name": "python3"
  },
  "language_info": {
   "codemirror_mode": {
    "name": "ipython",
    "version": 3
   },
   "file_extension": ".py",
   "mimetype": "text/x-python",
   "name": "python",
   "nbconvert_exporter": "python",
   "pygments_lexer": "ipython3",
   "version": "3.11.5"
  },
  "orig_nbformat": 4
 },
 "nbformat": 4,
 "nbformat_minor": 2
}
