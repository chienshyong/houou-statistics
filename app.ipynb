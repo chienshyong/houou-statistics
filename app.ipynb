{
 "cells": [
  {
   "cell_type": "code",
   "execution_count": 4,
   "metadata": {},
   "outputs": [],
   "source": [
    "import bz2\n",
    "import sqlite3\n",
    "from lxml import etree\n",
    "from tqdm import tqdm\n",
    "\n",
    "from analyzers.pond_traits import PondTraits\n",
    "\n",
    "allowed_types = [\"169\", \"225\", \"185\"] #Not sure what these are but I will leave it\n",
    "log_database = r'C:\\Users\\leecs1\\Downloads\\es4p.db'\n",
    "decompress = bz2.decompress\n",
    "XML = etree.XML"
   ]
  },
  {
   "cell_type": "code",
   "execution_count": 5,
   "metadata": {},
   "outputs": [
    {
     "name": "stdout",
     "output_type": "stream",
     "text": [
      "pondanalyzer.hands:  [Counter({16: 2, 17: 1, 14: 1, 32: 1, 19: 1, 18: 1, 33: 1, 34: 1, 15: 1, 11: 0, 37: 0, 24: 0, 8: 0, 6: 0, 2: 0, 27: 0, 21: 0, 29: 0, 36: 0}), Counter({24: 2, 6: 1, 14: 1, 18: 1, 17: 1, 15: 1, 5: 1, 28: 1, 27: 1, 26: 1, 7: 1, 19: 1, 13: 1, 32: 0, 2: 0, 36: 0, 33: 0, 29: 0, 31: 0, 3: 0}), Counter({4: 3, 25: 1, 18: 1, 24: 1, 26: 1, 28: 1, 22: 1, 7: 1, 37: 0, 36: 0, 21: 0, 17: 0, 15: 0, 29: 0, 34: 0, 3: 0, 9: 0}), Counter({27: 2, 12: 2, 16: 1, 8: 1, 14: 1, 25: 1, 15: 1, 3: 1, 21: 0, 34: 0, 18: 0, 1: 0, 35: 0, 11: 0, 31: 0, 9: 0, 37: 0})]\n"
     ]
    }
   ],
   "source": [
    "pondanalyzer = PondTraits()\n",
    "\n",
    "with sqlite3.connect(log_database) as conn:\n",
    "    cursor = conn.cursor()\n",
    "    cursor.execute('SELECT COUNT(*) FROM logs')\n",
    "    rowcount = cursor.fetchone()[0]\n",
    "    cursor.execute('SELECT * FROM logs LIMIT 1')\n",
    "\n",
    "    for i in range(rowcount):\n",
    "        log = cursor.fetchone()\n",
    "        if log is None:\n",
    "            break\n",
    "\n",
    "        content = decompress(log[2])\n",
    "        f = open(\"data/examplelog.xml\", \"wb\")\n",
    "        f.write(content)\n",
    "        f.close()\n",
    "\n",
    "        logxml = XML(content, etree.XMLParser(recover=True))\n",
    "\n",
    "        game_type = logxml.find(\"GO\").attrib[\"type\"]\n",
    "\n",
    "        if game_type in allowed_types:\n",
    "            pondanalyzer.ParseLog(logxml, log[0])\n",
    "\n",
    "        print('pondanalyzer.hands: ', pondanalyzer.hands)"
   ]
  },
  {
   "cell_type": "code",
   "execution_count": null,
   "metadata": {},
   "outputs": [],
   "source": []
  }
 ],
 "metadata": {
  "kernelspec": {
   "display_name": "Python 3",
   "language": "python",
   "name": "python3"
  },
  "language_info": {
   "codemirror_mode": {
    "name": "ipython",
    "version": 3
   },
   "file_extension": ".py",
   "mimetype": "text/x-python",
   "name": "python",
   "nbconvert_exporter": "python",
   "pygments_lexer": "ipython3",
   "version": "3.11.5"
  },
  "orig_nbformat": 4
 },
 "nbformat": 4,
 "nbformat_minor": 2
}
